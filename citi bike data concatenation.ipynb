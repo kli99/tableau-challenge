{
 "cells": [
  {
   "cell_type": "code",
   "execution_count": 1,
   "metadata": {},
   "outputs": [],
   "source": [
    "import os\n",
    "import pandas as pd"
   ]
  },
  {
   "cell_type": "code",
   "execution_count": 2,
   "metadata": {},
   "outputs": [],
   "source": [
    "df= pd.DataFrame()"
   ]
  },
  {
   "cell_type": "code",
   "execution_count": null,
   "metadata": {},
   "outputs": [],
   "source": []
  },
  {
   "cell_type": "code",
   "execution_count": 5,
   "metadata": {},
   "outputs": [
    {
     "name": "stdout",
     "output_type": "stream",
     "text": [
      "C:/Users/Keke/Documents/Bootcamp/Homework/Tableau Oct 3rd_ JC-201909-citibike-tripdata.csv\n",
      "C:/Users/Keke/Documents/Bootcamp/Homework/Tableau Oct 3rd_ JC-201910-citibike-tripdata.csv\n",
      "C:/Users/Keke/Documents/Bootcamp/Homework/Tableau Oct 3rd_ JC-201911-citibike-tripdata.csv\n",
      "C:/Users/Keke/Documents/Bootcamp/Homework/Tableau Oct 3rd_ JC-201912-citibike-tripdata.csv\n",
      "C:/Users/Keke/Documents/Bootcamp/Homework/Tableau Oct 3rd_ JC-202001-citibike-tripdata.csv\n",
      "C:/Users/Keke/Documents/Bootcamp/Homework/Tableau Oct 3rd_ JC-202002-citibike-tripdata.csv\n",
      "C:/Users/Keke/Documents/Bootcamp/Homework/Tableau Oct 3rd_ JC-202003-citibike-tripdata.csv\n",
      "C:/Users/Keke/Documents/Bootcamp/Homework/Tableau Oct 3rd_ JC-202004-citibike-tripdata.csv\n",
      "C:/Users/Keke/Documents/Bootcamp/Homework/Tableau Oct 3rd_ JC-202005-citibike-tripdata.csv\n",
      "C:/Users/Keke/Documents/Bootcamp/Homework/Tableau Oct 3rd_ JC-202006-citibike-tripdata.csv\n",
      "C:/Users/Keke/Documents/Bootcamp/Homework/Tableau Oct 3rd_ JC-202007-citibike-tripdata.csv\n",
      "C:/Users/Keke/Documents/Bootcamp/Homework/Tableau Oct 3rd_ JC-202008-citibike-tripdata.csv\n"
     ]
    }
   ],
   "source": [
    "# Only plug in file location with exact folder name\n",
    "for root, dirs, files in os.walk(\"C:/Users/Keke/Documents/Bootcamp/Homework/Tableau Oct 3rd_\"):\n",
    "    for name in files:\n",
    "        if name.endswith((\".csv\")):\n",
    "            # whatever\n",
    "            print(root, name)\n",
    "            # low memory for big file size\n",
    "            temp = pd.read_csv(os.path.join(root,name ), low_memory=False)\n",
    "            # join all csv by ignoring index and sorting \n",
    "            df = pd.concat([df,temp],ignore_index= False, sort= False)\n"
   ]
  },
  {
   "cell_type": "code",
   "execution_count": 6,
   "metadata": {},
   "outputs": [],
   "source": [
    "df.to_csv(\"C:/Users/Keke/Documents/Bootcamp/Homework/Tableau Oct 3rd_/final/final.csv\", index= False)"
   ]
  },
  {
   "cell_type": "code",
   "execution_count": null,
   "metadata": {},
   "outputs": [],
   "source": []
  }
 ],
 "metadata": {
  "kernelspec": {
   "display_name": "Python 3",
   "language": "python",
   "name": "python3"
  },
  "language_info": {
   "codemirror_mode": {
    "name": "ipython",
    "version": 3
   },
   "file_extension": ".py",
   "mimetype": "text/x-python",
   "name": "python",
   "nbconvert_exporter": "python",
   "pygments_lexer": "ipython3",
   "version": "3.7.6"
  }
 },
 "nbformat": 4,
 "nbformat_minor": 4
}
